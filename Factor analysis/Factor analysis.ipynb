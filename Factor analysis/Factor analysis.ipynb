{
 "cells": [
  {
   "cell_type": "markdown",
   "metadata": {},
   "source": [
    "# Some package and dataset"
   ]
  },
  {
   "cell_type": "code",
   "execution_count": 1,
   "metadata": {
    "collapsed": true
   },
   "outputs": [],
   "source": [
    "import numpy as np\n",
    "import pandas as pd\n",
    "from factor_analyzer import FactorAnalyzer,Rotator\n",
    "from sklearn import preprocessing #normalization\n",
    "import seaborn as sns"
   ]
  },
  {
   "cell_type": "code",
   "execution_count": 2,
   "metadata": {},
   "outputs": [
    {
     "data": {
      "text/html": [
       "<div>\n",
       "<style>\n",
       "    .dataframe thead tr:only-child th {\n",
       "        text-align: right;\n",
       "    }\n",
       "\n",
       "    .dataframe thead th {\n",
       "        text-align: left;\n",
       "    }\n",
       "\n",
       "    .dataframe tbody tr th {\n",
       "        vertical-align: top;\n",
       "    }\n",
       "</style>\n",
       "<table border=\"1\" class=\"dataframe\">\n",
       "  <thead>\n",
       "    <tr style=\"text-align: right;\">\n",
       "      <th></th>\n",
       "      <th>jpmorgan</th>\n",
       "      <th>citibank</th>\n",
       "      <th>wellsfargo</th>\n",
       "      <th>shell</th>\n",
       "      <th>exxon</th>\n",
       "    </tr>\n",
       "  </thead>\n",
       "  <tbody>\n",
       "    <tr>\n",
       "      <th>0</th>\n",
       "      <td>0.013034</td>\n",
       "      <td>-0.007843</td>\n",
       "      <td>-0.003189</td>\n",
       "      <td>-0.044769</td>\n",
       "      <td>0.005215</td>\n",
       "    </tr>\n",
       "    <tr>\n",
       "      <th>1</th>\n",
       "      <td>0.008486</td>\n",
       "      <td>0.016689</td>\n",
       "      <td>-0.006210</td>\n",
       "      <td>0.011956</td>\n",
       "      <td>0.013489</td>\n",
       "    </tr>\n",
       "    <tr>\n",
       "      <th>2</th>\n",
       "      <td>-0.017915</td>\n",
       "      <td>-0.008639</td>\n",
       "      <td>0.010036</td>\n",
       "      <td>0.000000</td>\n",
       "      <td>-0.006143</td>\n",
       "    </tr>\n",
       "    <tr>\n",
       "      <th>3</th>\n",
       "      <td>0.021559</td>\n",
       "      <td>-0.003486</td>\n",
       "      <td>0.017435</td>\n",
       "      <td>-0.028592</td>\n",
       "      <td>-0.006953</td>\n",
       "    </tr>\n",
       "    <tr>\n",
       "      <th>4</th>\n",
       "      <td>0.010822</td>\n",
       "      <td>0.003717</td>\n",
       "      <td>-0.010134</td>\n",
       "      <td>0.029190</td>\n",
       "      <td>0.040975</td>\n",
       "    </tr>\n",
       "  </tbody>\n",
       "</table>\n",
       "</div>"
      ],
      "text/plain": [
       "   jpmorgan  citibank  wellsfargo     shell     exxon\n",
       "0  0.013034 -0.007843   -0.003189 -0.044769  0.005215\n",
       "1  0.008486  0.016689   -0.006210  0.011956  0.013489\n",
       "2 -0.017915 -0.008639    0.010036  0.000000 -0.006143\n",
       "3  0.021559 -0.003486    0.017435 -0.028592 -0.006953\n",
       "4  0.010822  0.003717   -0.010134  0.029190  0.040975"
      ]
     },
     "execution_count": 2,
     "metadata": {},
     "output_type": "execute_result"
    }
   ],
   "source": [
    "Stock=pd.read_csv('/home/jzsyuan/Survey-Sampling/FA/STOCK.csv')\n",
    "Stock.head()"
   ]
  },
  {
   "cell_type": "markdown",
   "metadata": {},
   "source": [
    "# Principal Component Method　(without package) "
   ]
  },
  {
   "cell_type": "code",
   "execution_count": 3,
   "metadata": {
    "scrolled": true
   },
   "outputs": [
    {
     "data": {
      "text/html": [
       "<div>\n",
       "<style>\n",
       "    .dataframe thead tr:only-child th {\n",
       "        text-align: right;\n",
       "    }\n",
       "\n",
       "    .dataframe thead th {\n",
       "        text-align: left;\n",
       "    }\n",
       "\n",
       "    .dataframe tbody tr th {\n",
       "        vertical-align: top;\n",
       "    }\n",
       "</style>\n",
       "<table border=\"1\" class=\"dataframe\">\n",
       "  <thead>\n",
       "    <tr style=\"text-align: right;\">\n",
       "      <th></th>\n",
       "      <th>jpmorgan</th>\n",
       "      <th>citibank</th>\n",
       "      <th>wellsfargo</th>\n",
       "      <th>shell</th>\n",
       "      <th>exxon</th>\n",
       "    </tr>\n",
       "  </thead>\n",
       "  <tbody>\n",
       "    <tr>\n",
       "      <th>jpmorgan</th>\n",
       "      <td>1.000000</td>\n",
       "      <td>0.632288</td>\n",
       "      <td>0.510497</td>\n",
       "      <td>0.114602</td>\n",
       "      <td>0.154463</td>\n",
       "    </tr>\n",
       "    <tr>\n",
       "      <th>citibank</th>\n",
       "      <td>0.632288</td>\n",
       "      <td>1.000000</td>\n",
       "      <td>0.574142</td>\n",
       "      <td>0.322292</td>\n",
       "      <td>0.212675</td>\n",
       "    </tr>\n",
       "    <tr>\n",
       "      <th>wellsfargo</th>\n",
       "      <td>0.510497</td>\n",
       "      <td>0.574142</td>\n",
       "      <td>1.000000</td>\n",
       "      <td>0.182499</td>\n",
       "      <td>0.146207</td>\n",
       "    </tr>\n",
       "    <tr>\n",
       "      <th>shell</th>\n",
       "      <td>0.114602</td>\n",
       "      <td>0.322292</td>\n",
       "      <td>0.182499</td>\n",
       "      <td>1.000000</td>\n",
       "      <td>0.683378</td>\n",
       "    </tr>\n",
       "    <tr>\n",
       "      <th>exxon</th>\n",
       "      <td>0.154463</td>\n",
       "      <td>0.212675</td>\n",
       "      <td>0.146207</td>\n",
       "      <td>0.683378</td>\n",
       "      <td>1.000000</td>\n",
       "    </tr>\n",
       "  </tbody>\n",
       "</table>\n",
       "</div>"
      ],
      "text/plain": [
       "            jpmorgan  citibank  wellsfargo     shell     exxon\n",
       "jpmorgan    1.000000  0.632288    0.510497  0.114602  0.154463\n",
       "citibank    0.632288  1.000000    0.574142  0.322292  0.212675\n",
       "wellsfargo  0.510497  0.574142    1.000000  0.182499  0.146207\n",
       "shell       0.114602  0.322292    0.182499  1.000000  0.683378\n",
       "exxon       0.154463  0.212675    0.146207  0.683378  1.000000"
      ]
     },
     "execution_count": 3,
     "metadata": {},
     "output_type": "execute_result"
    }
   ],
   "source": [
    "R=Stock.corr()\n",
    "Stock.corr()"
   ]
  },
  {
   "cell_type": "code",
   "execution_count": 4,
   "metadata": {},
   "outputs": [
    {
     "data": {
      "text/html": [
       "<div>\n",
       "<style>\n",
       "    .dataframe thead tr:only-child th {\n",
       "        text-align: right;\n",
       "    }\n",
       "\n",
       "    .dataframe thead th {\n",
       "        text-align: left;\n",
       "    }\n",
       "\n",
       "    .dataframe tbody tr th {\n",
       "        vertical-align: top;\n",
       "    }\n",
       "</style>\n",
       "<table border=\"1\" class=\"dataframe\">\n",
       "  <thead>\n",
       "    <tr style=\"text-align: right;\">\n",
       "      <th></th>\n",
       "      <th>Factor loading 1</th>\n",
       "      <th>Factor loading 2</th>\n",
       "    </tr>\n",
       "  </thead>\n",
       "  <tbody>\n",
       "    <tr>\n",
       "      <th>jpmorgan</th>\n",
       "      <td>-0.732322</td>\n",
       "      <td>-0.436521</td>\n",
       "    </tr>\n",
       "    <tr>\n",
       "      <th>citibank</th>\n",
       "      <td>-0.831179</td>\n",
       "      <td>-0.280486</td>\n",
       "    </tr>\n",
       "    <tr>\n",
       "      <th>wellsfargo</th>\n",
       "      <td>-0.726202</td>\n",
       "      <td>-0.373858</td>\n",
       "    </tr>\n",
       "    <tr>\n",
       "      <th>shell</th>\n",
       "      <td>-0.604716</td>\n",
       "      <td>0.693957</td>\n",
       "    </tr>\n",
       "    <tr>\n",
       "      <th>exxon</th>\n",
       "      <td>-0.563088</td>\n",
       "      <td>0.718640</td>\n",
       "    </tr>\n",
       "  </tbody>\n",
       "</table>\n",
       "</div>"
      ],
      "text/plain": [
       "            Factor loading 1  Factor loading 2\n",
       "jpmorgan           -0.732322         -0.436521\n",
       "citibank           -0.831179         -0.280486\n",
       "wellsfargo         -0.726202         -0.373858\n",
       "shell              -0.604716          0.693957\n",
       "exxon              -0.563088          0.718640"
      ]
     },
     "execution_count": 4,
     "metadata": {},
     "output_type": "execute_result"
    }
   ],
   "source": [
    "\n",
    "eigenvalues, eigenvectors =np.linalg.eig(R)\n",
    "lambda1=np.sqrt(eigenvalues)\n",
    "loading=[]\n",
    "number=range(0,2)\n",
    "for num in number:\n",
    "    temp=eigenvectors.T[num]*lambda1[num]\n",
    "    loading=np.append(loading,temp,axis=0)\n",
    "    \n",
    "loading.shape=(2,5)\n",
    "factor_loading=pd.DataFrame(np.transpose(loading),\n",
    "                            columns=['Factor loading 1','Factor loading 2'])\n",
    "factor_loading.index=Stock.columns\n",
    "factor_loading"
   ]
  },
  {
   "cell_type": "markdown",
   "metadata": {},
   "source": [
    "# Rotation (Varimax)"
   ]
  },
  {
   "cell_type": "code",
   "execution_count": 5,
   "metadata": {},
   "outputs": [
    {
     "data": {
      "text/html": [
       "<div>\n",
       "<style>\n",
       "    .dataframe thead tr:only-child th {\n",
       "        text-align: right;\n",
       "    }\n",
       "\n",
       "    .dataframe thead th {\n",
       "        text-align: left;\n",
       "    }\n",
       "\n",
       "    .dataframe tbody tr th {\n",
       "        vertical-align: top;\n",
       "    }\n",
       "</style>\n",
       "<table border=\"1\" class=\"dataframe\">\n",
       "  <thead>\n",
       "    <tr style=\"text-align: right;\">\n",
       "      <th></th>\n",
       "      <th>Factor loading 1</th>\n",
       "      <th>Factor loading 2</th>\n",
       "    </tr>\n",
       "  </thead>\n",
       "  <tbody>\n",
       "    <tr>\n",
       "      <th>jpmorgan</th>\n",
       "      <td>-0.851809</td>\n",
       "      <td>0.035589</td>\n",
       "    </tr>\n",
       "    <tr>\n",
       "      <th>citibank</th>\n",
       "      <td>-0.849120</td>\n",
       "      <td>0.220285</td>\n",
       "    </tr>\n",
       "    <tr>\n",
       "      <th>wellsfargo</th>\n",
       "      <td>-0.812385</td>\n",
       "      <td>0.084679</td>\n",
       "    </tr>\n",
       "    <tr>\n",
       "      <th>shell</th>\n",
       "      <td>-0.126167</td>\n",
       "      <td>0.911778</td>\n",
       "    </tr>\n",
       "    <tr>\n",
       "      <th>exxon</th>\n",
       "      <td>-0.077819</td>\n",
       "      <td>0.909646</td>\n",
       "    </tr>\n",
       "  </tbody>\n",
       "</table>\n",
       "</div>"
      ],
      "text/plain": [
       "            Factor loading 1  Factor loading 2\n",
       "jpmorgan           -0.851809          0.035589\n",
       "citibank           -0.849120          0.220285\n",
       "wellsfargo         -0.812385          0.084679\n",
       "shell              -0.126167          0.911778\n",
       "exxon              -0.077819          0.909646"
      ]
     },
     "execution_count": 5,
     "metadata": {},
     "output_type": "execute_result"
    }
   ],
   "source": [
    "rotator = Rotator()\n",
    "L=rotator.rotate(factor_loading, 'varimax')[0]\n",
    "L"
   ]
  },
  {
   "cell_type": "markdown",
   "metadata": {},
   "source": [
    "# Factor score  (Principal component (Ordinary ))"
   ]
  },
  {
   "cell_type": "code",
   "execution_count": 6,
   "metadata": {},
   "outputs": [
    {
     "data": {
      "text/html": [
       "<div>\n",
       "<style>\n",
       "    .dataframe thead tr:only-child th {\n",
       "        text-align: right;\n",
       "    }\n",
       "\n",
       "    .dataframe thead th {\n",
       "        text-align: left;\n",
       "    }\n",
       "\n",
       "    .dataframe tbody tr th {\n",
       "        vertical-align: top;\n",
       "    }\n",
       "</style>\n",
       "<table border=\"1\" class=\"dataframe\">\n",
       "  <thead>\n",
       "    <tr style=\"text-align: right;\">\n",
       "      <th></th>\n",
       "      <th>Bank Factor</th>\n",
       "      <th>Oil Factor</th>\n",
       "    </tr>\n",
       "  </thead>\n",
       "  <tbody>\n",
       "    <tr>\n",
       "      <th>0</th>\n",
       "      <td>-0.065109</td>\n",
       "      <td>-1.021455</td>\n",
       "    </tr>\n",
       "    <tr>\n",
       "      <th>1</th>\n",
       "      <td>-0.198678</td>\n",
       "      <td>0.364611</td>\n",
       "    </tr>\n",
       "    <tr>\n",
       "      <th>2</th>\n",
       "      <td>0.297630</td>\n",
       "      <td>-0.242988</td>\n",
       "    </tr>\n",
       "    <tr>\n",
       "      <th>3</th>\n",
       "      <td>-0.868107</td>\n",
       "      <td>-1.051511</td>\n",
       "    </tr>\n",
       "    <tr>\n",
       "      <th>4</th>\n",
       "      <td>0.229656</td>\n",
       "      <td>1.263468</td>\n",
       "    </tr>\n",
       "  </tbody>\n",
       "</table>\n",
       "</div>"
      ],
      "text/plain": [
       "   Bank Factor  Oil Factor\n",
       "0    -0.065109   -1.021455\n",
       "1    -0.198678    0.364611\n",
       "2     0.297630   -0.242988\n",
       "3    -0.868107   -1.051511\n",
       "4     0.229656    1.263468"
      ]
     },
     "execution_count": 6,
     "metadata": {},
     "output_type": "execute_result"
    }
   ],
   "source": [
    "X=np.linalg.inv(np.matmul(L.T,L))\n",
    "delta=np.matmul(X,L.T)\n",
    "Z=preprocessing.scale(Stock)#normalization\n",
    "factorscore1,factorscore2=np.matmul(delta,Z.T)\n",
    "FASCORE=pd.DataFrame(np.transpose([factorscore1,factorscore2]),\n",
    "             columns=['Bank Factor','Oil Factor'])\n",
    "FASCORE.head()"
   ]
  },
  {
   "cell_type": "code",
   "execution_count": 7,
   "metadata": {},
   "outputs": [
    {
     "data": {
      "text/plain": [
       "<seaborn.axisgrid.FacetGrid at 0x7eff8df9ce48>"
      ]
     },
     "execution_count": 7,
     "metadata": {},
     "output_type": "execute_result"
    },
    {
     "data": {
      "image/png": "[encoded data removed]",
      "text/plain": [
       "<matplotlib.figure.Figure at 0x7eff8df4a5c0>"
      ]
     },
     "metadata": {},
     "output_type": "display_data"
    }
   ],
   "source": [
    "%matplotlib inline\n",
    "sns.set_style(\"whitegrid\")\n",
    "sns.lmplot('Bank Factor','Oil Factor',data=FASCORE,fit_reg=False)"
   ]
  },
  {
   "cell_type": "markdown",
   "metadata": {},
   "source": [
    "\n",
    "# MLE"
   ]
  },
  {
   "cell_type": "code",
   "execution_count": 8,
   "metadata": {},
   "outputs": [
    {
     "data": {
      "text/html": [
       "<div>\n",
       "<style>\n",
       "    .dataframe thead tr:only-child th {\n",
       "        text-align: right;\n",
       "    }\n",
       "\n",
       "    .dataframe thead th {\n",
       "        text-align: left;\n",
       "    }\n",
       "\n",
       "    .dataframe tbody tr th {\n",
       "        vertical-align: top;\n",
       "    }\n",
       "</style>\n",
       "<table border=\"1\" class=\"dataframe\">\n",
       "  <thead>\n",
       "    <tr style=\"text-align: right;\">\n",
       "      <th></th>\n",
       "      <th>Factor1</th>\n",
       "      <th>Factor2</th>\n",
       "    </tr>\n",
       "  </thead>\n",
       "  <tbody>\n",
       "    <tr>\n",
       "      <th>jpmorgan</th>\n",
       "      <td>0.028768</td>\n",
       "      <td>0.669948</td>\n",
       "    </tr>\n",
       "    <tr>\n",
       "      <th>citibank</th>\n",
       "      <td>0.230458</td>\n",
       "      <td>0.725229</td>\n",
       "    </tr>\n",
       "    <tr>\n",
       "      <th>wellsfargo</th>\n",
       "      <td>0.107088</td>\n",
       "      <td>0.591659</td>\n",
       "    </tr>\n",
       "    <tr>\n",
       "      <th>shell</th>\n",
       "      <td>0.986454</td>\n",
       "      <td>0.130124</td>\n",
       "    </tr>\n",
       "    <tr>\n",
       "      <th>exxon</th>\n",
       "      <td>0.673807</td>\n",
       "      <td>0.116503</td>\n",
       "    </tr>\n",
       "  </tbody>\n",
       "</table>\n",
       "</div>"
      ],
      "text/plain": [
       "             Factor1   Factor2\n",
       "jpmorgan    0.028768  0.669948\n",
       "citibank    0.230458  0.725229\n",
       "wellsfargo  0.107088  0.591659\n",
       "shell       0.986454  0.130124\n",
       "exxon       0.673807  0.116503"
      ]
     },
     "execution_count": 8,
     "metadata": {},
     "output_type": "execute_result"
    }
   ],
   "source": [
    "factor= FactorAnalyzer()\n",
    "factor.analyze(Stock, 2, rotation='varimax',method=\"mle\")\n",
    "factor.loadings"
   ]
  }
 ],
 "metadata": {
  "kernelspec": {
   "display_name": "Python 3",
   "language": "python",
   "name": "python3"
  },
  "language_info": {
   "codemirror_mode": {
    "name": "ipython",
    "version": 3
   },
   "file_extension": ".py",
   "mimetype": "text/x-python",
   "name": "python",
   "nbconvert_exporter": "python",
   "pygments_lexer": "ipython3",
   "version": "3.6.3"
  }
 },
 "nbformat": 4,
 "nbformat_minor": 2
}
